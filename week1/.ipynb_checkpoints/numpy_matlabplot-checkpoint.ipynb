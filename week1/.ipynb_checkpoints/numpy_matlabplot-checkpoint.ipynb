{
 "cells": [
  {
   "cell_type": "code",
   "execution_count": 8,
   "id": "5986a35e",
   "metadata": {},
   "outputs": [],
   "source": [
    "import numpy as np\n",
    "import matplotlib.pyplot as plt\n",
    "def limit(c, n=25, p=2):\n",
    "    z = 0\n",
    "    for i in range(1, n):\n",
    "        z = z**p + c\n",
    "        if np.abs(z) > 2:\n",
    "            return np.inf\n",
    "    return np.abs(z)"
   ]
  },
  {
   "cell_type": "code",
   "execution_count": 9,
   "id": "59085a27",
   "metadata": {},
   "outputs": [],
   "source": [
    "def mandelbrot(n=25, size=250, xlim=(-2,2), ylim=(-2,2), p=2):\n",
    "    x = np.linspace(xlim[0], xlim[1], size)\n",
    "    y = np.linspace(ylim[0], ylim[1], size)\n",
    "    m = np.zeros((size, size))\n",
    "    for i in range(size):\n",
    "        for j in range(size):\n",
    "            z = limit(x[i] + y[j]*1j, n, p)\n",
    "            if z < 2:\n",
    "                m[j,i] = 1\n",
    "    return m"
   ]
  },
  {
   "cell_type": "code",
   "execution_count": 10,
   "id": "3f96c261",
   "metadata": {},
   "outputs": [],
   "source": [
    "def mandelbrot_color(n=25, size=250, xlim=(-2,2), ylim=(-2,2), p=2):\n",
    "    x = np.linspace(xlim[0], xlim[1], size)\n",
    "    y = np.linspace(ylim[0], ylim[1], size)\n",
    "    m = np.zeros((size, size))\n",
    "    for i in range(size):\n",
    "        for j in range(size):\n",
    "            c = x[i] + y[j]*1j\n",
    "            z = 0\n",
    "            for k in range(n):\n",
    "                z = z**p + c\n",
    "                if np.abs(z) < 2:\n",
    "                    m[j,i] += 1\n",
    "                else:\n",
    "                    break\n",
    "    return m"
   ]
  },
  {
   "cell_type": "code",
   "execution_count": 11,
   "id": "995e1ea6",
   "metadata": {},
   "outputs": [
    {
     "data": {
      "text/plain": [
       "array([[0., 0., 0., ..., 0., 0., 0.],\n",
       "       [0., 0., 0., ..., 0., 0., 0.],\n",
       "       [0., 0., 0., ..., 0., 0., 0.],\n",
       "       ...,\n",
       "       [0., 0., 0., ..., 0., 0., 0.],\n",
       "       [0., 0., 0., ..., 0., 0., 0.],\n",
       "       [0., 0., 0., ..., 0., 0., 0.]])"
      ]
     },
     "execution_count": 11,
     "metadata": {},
     "output_type": "execute_result"
    }
   ],
   "source": [
    "limit(1)\n",
    "mandelbrot()\n",
    "mandelbrot_color()"
   ]
  },
  {
   "cell_type": "code",
   "execution_count": null,
   "id": "10c907cf",
   "metadata": {},
   "outputs": [],
   "source": [
    "mu = 100\n",
    "sigma = 15\n",
    "x = mu + sigma*np.random.randn(10000)\n",
    "plt.hist(x, 50, normed=1, facecolor=\"g\", alpha=0.75)\n",
    "plt.title(\"Histogram of IQ\")\n",
    "plt.xlabel(\"Smarts\")\n",
    "plt.ylabel(\"Probability\")\n",
    "plt.axis([40, 160, 0, 0.03])\n",
    "plt.grid(True)\n",
    "plt.show()"
   ]
  },
  {
   "cell_type": "code",
   "execution_count": 2,
   "id": "e2d572f9",
   "metadata": {},
   "outputs": [
    {
     "name": "stdout",
     "output_type": "stream",
     "text": [
      "axis=0 垂直方向 平均分隔\n",
      "[[1 2 3]\n",
      " [4 5 6]]\n",
      "[[11 12 13]\n",
      " [14 15 16]]\n",
      "axis=1 水平方向 按位置分隔\n",
      "[array([[ 1,  2],\n",
      "       [ 4,  5],\n",
      "       [11, 12],\n",
      "       [14, 15]]), array([[ 3],\n",
      "       [ 6],\n",
      "       [13],\n",
      "       [16]])]\n",
      "[[ 1  2]\n",
      " [ 4  5]\n",
      " [11 12]\n",
      " [14 15]]\n",
      "[[ 3]\n",
      " [ 6]\n",
      " [13]\n",
      " [16]]\n"
     ]
    }
   ],
   "source": [
    "#导入 numpy\n",
    "import numpy as np \n",
    "#创建两个数组 \n",
    "a=np.array([[1,2,3],[4,5,6],[11,12,13],[14,15,16]]) \n",
    "print('axis=0 垂直方向 平均分隔') \n",
    "r=np.split(a,2,axis=0) \n",
    "print(r[0]) \n",
    "print(r[1]) \n",
    "print('axis=1 水平方向 按位置分隔') \n",
    "r=np.split(a,[2],axis=1) \n",
    "print(r)\n",
    "print(r[0]) \n",
    "print(r[1]) "
   ]
  },
  {
   "cell_type": "code",
   "execution_count": null,
   "id": "f7845b2b",
   "metadata": {},
   "outputs": [],
   "source": []
  }
 ],
 "metadata": {
  "kernelspec": {
   "display_name": "Python 3 (ipykernel)",
   "language": "python",
   "name": "python3"
  },
  "language_info": {
   "codemirror_mode": {
    "name": "ipython",
    "version": 3
   },
   "file_extension": ".py",
   "mimetype": "text/x-python",
   "name": "python",
   "nbconvert_exporter": "python",
   "pygments_lexer": "ipython3",
   "version": "3.9.12"
  }
 },
 "nbformat": 4,
 "nbformat_minor": 5
}
