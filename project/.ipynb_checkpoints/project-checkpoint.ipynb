{
 "cells": [
  {
   "cell_type": "markdown",
   "id": "3b752eb2",
   "metadata": {},
   "source": [
    "# Group3 AI-ML-Project:Population Regression \n",
    "## 1. First, we import several dependencies such as pandas, numpy, scikit-learn and so on. We also going to read the Iris CSV file using pandas."
   ]
  },
  {
   "cell_type": "code",
   "execution_count": 2,
   "id": "3669f5b1",
   "metadata": {},
   "outputs": [],
   "source": [
    "import pandas as pd\n",
    "import numpy as np\n",
    "import matplotlib.pyplot as plt\n",
    "import math\n",
    "from sklearn import linear_model\n",
    "df = pd.read_csv('population.csv')"
   ]
  },
  {
   "cell_type": "markdown",
   "id": "00e12ac9",
   "metadata": {},
   "source": [
    "## 2. After importing the data, let’s check whether we have null values in our dataset or not. We will see there are no null/missing values."
   ]
  },
  {
   "cell_type": "code",
   "execution_count": 2,
   "id": "6044bbd0",
   "metadata": {},
   "outputs": [
    {
     "data": {
      "text/plain": [
       "Data Series Singapore      False\n",
       "Total Population1          False\n",
       "Resident Population         True\n",
       "Non-Resident Population     True\n",
       "Data Series China           True\n",
       "Total Population2           True\n",
       "dtype: bool"
      ]
     },
     "execution_count": 2,
     "metadata": {},
     "output_type": "execute_result"
    }
   ],
   "source": [
    "df.isnull().any()"
   ]
  },
  {
   "cell_type": "markdown",
   "id": "fb8e47ec",
   "metadata": {},
   "source": [
    "## 3. Let's understand more about the data. We will start by getting to know the type of each column values.  We see that the width and length column are represented using float64 and the name of the species uses object or string."
   ]
  },
  {
   "cell_type": "code",
   "execution_count": 3,
   "id": "6868b478",
   "metadata": {},
   "outputs": [
    {
     "data": {
      "text/plain": [
       "Data Series Singapore        int64\n",
       "Total Population1            int64\n",
       "Resident Population        float64\n",
       "Non-Resident Population    float64\n",
       "Data Series China          float64\n",
       "Total Population2          float64\n",
       "dtype: object"
      ]
     },
     "execution_count": 3,
     "metadata": {},
     "output_type": "execute_result"
    }
   ],
   "source": [
    "df.dtypes"
   ]
  },
  {
   "cell_type": "markdown",
   "id": "257f6e1f",
   "metadata": {},
   "source": [
    "## 4. Let’s look at a quick summary of the data."
   ]
  },
  {
   "cell_type": "code",
   "execution_count": 4,
   "id": "f96ece2e",
   "metadata": {},
   "outputs": [
    {
     "data": {
      "text/html": [
       "<div>\n",
       "<style scoped>\n",
       "    .dataframe tbody tr th:only-of-type {\n",
       "        vertical-align: middle;\n",
       "    }\n",
       "\n",
       "    .dataframe tbody tr th {\n",
       "        vertical-align: top;\n",
       "    }\n",
       "\n",
       "    .dataframe thead th {\n",
       "        text-align: right;\n",
       "    }\n",
       "</style>\n",
       "<table border=\"1\" class=\"dataframe\">\n",
       "  <thead>\n",
       "    <tr style=\"text-align: right;\">\n",
       "      <th></th>\n",
       "      <th>Data Series Singapore</th>\n",
       "      <th>Total Population1</th>\n",
       "      <th>Resident Population</th>\n",
       "      <th>Non-Resident Population</th>\n",
       "      <th>Data Series China</th>\n",
       "      <th>Total Population2</th>\n",
       "    </tr>\n",
       "  </thead>\n",
       "  <tbody>\n",
       "    <tr>\n",
       "      <th>count</th>\n",
       "      <td>72.00000</td>\n",
       "      <td>7.200000e+01</td>\n",
       "      <td>4.200000e+01</td>\n",
       "      <td>4.200000e+01</td>\n",
       "      <td>62.000000</td>\n",
       "      <td>6.200000e+01</td>\n",
       "    </tr>\n",
       "    <tr>\n",
       "      <th>mean</th>\n",
       "      <td>1985.50000</td>\n",
       "      <td>3.129033e+06</td>\n",
       "      <td>3.241576e+06</td>\n",
       "      <td>8.401909e+05</td>\n",
       "      <td>1990.500000</td>\n",
       "      <td>1.099373e+09</td>\n",
       "    </tr>\n",
       "    <tr>\n",
       "      <th>std</th>\n",
       "      <td>20.92845</td>\n",
       "      <td>1.432383e+06</td>\n",
       "      <td>5.700714e+05</td>\n",
       "      <td>5.330465e+05</td>\n",
       "      <td>18.041619</td>\n",
       "      <td>2.370686e+08</td>\n",
       "    </tr>\n",
       "    <tr>\n",
       "      <th>min</th>\n",
       "      <td>1950.00000</td>\n",
       "      <td>1.022100e+06</td>\n",
       "      <td>2.282125e+06</td>\n",
       "      <td>1.318200e+05</td>\n",
       "      <td>1960.000000</td>\n",
       "      <td>6.603300e+08</td>\n",
       "    </tr>\n",
       "    <tr>\n",
       "      <th>25%</th>\n",
       "      <td>1967.75000</td>\n",
       "      <td>2.003400e+06</td>\n",
       "      <td>2.750577e+06</td>\n",
       "      <td>3.185428e+05</td>\n",
       "      <td>1975.250000</td>\n",
       "      <td>9.199675e+08</td>\n",
       "    </tr>\n",
       "    <tr>\n",
       "      <th>50%</th>\n",
       "      <td>1985.50000</td>\n",
       "      <td>2.734665e+06</td>\n",
       "      <td>3.299632e+06</td>\n",
       "      <td>7.506665e+05</td>\n",
       "      <td>1990.500000</td>\n",
       "      <td>1.142982e+09</td>\n",
       "    </tr>\n",
       "    <tr>\n",
       "      <th>75%</th>\n",
       "      <td>2003.25000</td>\n",
       "      <td>4.168986e+06</td>\n",
       "      <td>3.784868e+06</td>\n",
       "      <td>1.372080e+06</td>\n",
       "      <td>2005.750000</td>\n",
       "      <td>1.309195e+09</td>\n",
       "    </tr>\n",
       "    <tr>\n",
       "      <th>max</th>\n",
       "      <td>2021.00000</td>\n",
       "      <td>5.703569e+06</td>\n",
       "      <td>4.044210e+06</td>\n",
       "      <td>1.677360e+06</td>\n",
       "      <td>2021.000000</td>\n",
       "      <td>1.412360e+09</td>\n",
       "    </tr>\n",
       "  </tbody>\n",
       "</table>\n",
       "</div>"
      ],
      "text/plain": [
       "       Data Series Singapore  Total Population1  Resident Population  \\\n",
       "count               72.00000       7.200000e+01         4.200000e+01   \n",
       "mean              1985.50000       3.129033e+06         3.241576e+06   \n",
       "std                 20.92845       1.432383e+06         5.700714e+05   \n",
       "min               1950.00000       1.022100e+06         2.282125e+06   \n",
       "25%               1967.75000       2.003400e+06         2.750577e+06   \n",
       "50%               1985.50000       2.734665e+06         3.299632e+06   \n",
       "75%               2003.25000       4.168986e+06         3.784868e+06   \n",
       "max               2021.00000       5.703569e+06         4.044210e+06   \n",
       "\n",
       "       Non-Resident Population  Data Series China  Total Population2  \n",
       "count             4.200000e+01          62.000000       6.200000e+01  \n",
       "mean              8.401909e+05        1990.500000       1.099373e+09  \n",
       "std               5.330465e+05          18.041619       2.370686e+08  \n",
       "min               1.318200e+05        1960.000000       6.603300e+08  \n",
       "25%               3.185428e+05        1975.250000       9.199675e+08  \n",
       "50%               7.506665e+05        1990.500000       1.142982e+09  \n",
       "75%               1.372080e+06        2005.750000       1.309195e+09  \n",
       "max               1.677360e+06        2021.000000       1.412360e+09  "
      ]
     },
     "execution_count": 4,
     "metadata": {},
     "output_type": "execute_result"
    }
   ],
   "source": [
    "df.describe()"
   ]
  },
  {
   "cell_type": "markdown",
   "id": "36476f76",
   "metadata": {},
   "source": [
    "## 5. the population statistics of Singapore\n",
    "1. load corresponding data of population in Singapore\n",
    "2. using LinearRegression to fit the data\n",
    "3. get the best line\n",
    "4. plot the graph\n",
    "5. using R-square and MSE to analyze"
   ]
  },
  {
   "cell_type": "code",
   "execution_count": 5,
   "id": "63d8ba14",
   "metadata": {},
   "outputs": [],
   "source": [
    "X = df[['Data Series Singapore']].values\n",
    "Y = df['Total Population1'].values\n",
    "X_train=X[8:72]\n",
    "Y_train=Y[8:72]\n",
    "X_test=X[0:8]\n",
    "Y_test=Y[0:8]"
   ]
  },
  {
   "cell_type": "code",
   "execution_count": 6,
   "id": "6803d342",
   "metadata": {},
   "outputs": [
    {
     "data": {
      "text/plain": [
       "LinearRegression()"
      ]
     },
     "execution_count": 6,
     "metadata": {},
     "output_type": "execute_result"
    }
   ],
   "source": [
    "model = linear_model.LinearRegression()\n",
    "model.fit(X_train, Y_train)"
   ]
  },
  {
   "cell_type": "code",
   "execution_count": 7,
   "id": "18d23dbf",
   "metadata": {},
   "outputs": [
    {
     "name": "stdout",
     "output_type": "stream",
     "text": [
      "Q3_D the best fit line(LinearRegression): y= 63343.226259157535 * x+ -122692970.62939565\n"
     ]
    }
   ],
   "source": [
    "# find best fit line\n",
    "x_tr = np.linspace(1950, 2021, 72)\n",
    "ypred = model.predict(x_tr[:, np.newaxis])\n",
    "beta = model.coef_[0]\n",
    "e = model.intercept_\n",
    "print(\"Q3_D the best fit line(LinearRegression): \"\"y=\",beta,\"* x+\",e)"
   ]
  },
  {
   "cell_type": "code",
   "execution_count": 8,
   "id": "01cfbc46",
   "metadata": {},
   "outputs": [
    {
     "data": {
      "image/png": "[encoded data removed]",
      "text/plain": [
       "<Figure size 648x360 with 1 Axes>"
      ]
     },
     "metadata": {
      "needs_background": "light"
     },
     "output_type": "display_data"
    }
   ],
   "source": [
    "# plot the graph for raw data and predict line\n",
    "fig, ax = plt.subplots(1, 1, figsize=(9, 5))\n",
    "ax.plot(x_tr, ypred,'m',label='LinearRegression')\n",
    "ax.scatter(X_train, Y_train,label= 'Training Data')\n",
    "ax.scatter(X_test, Y_test,label= 'Testing Data')\n",
    "ax.set_title(\"population in Singapore\")\n",
    "plt.legend(loc=2)\n",
    "plt.xlabel(\"x\")\n",
    "plt.ylabel(\"y\")\n",
    "plt.grid()"
   ]
  },
  {
   "cell_type": "markdown",
   "id": "77db9ce7",
   "metadata": {},
   "source": [
    "### The coefficient of determination $R^2$  \n",
    "Definition: it is a measure that provides some information about the goodness of fit of a model. In the context of regression, it is a statistical measure of how well the regression line approximates the actual data In short: The model can be interpreted as the extent to which it is the independent variable that causes the dependent variable to change.\n",
    "$$\n",
    "R^2=\\frac{SSR}{SST}=\\frac{\\sum{\\left( \\hat{y}_i-\\bar{y} \\right) ^2}}{\\sum{\\left( \\hat{y}_i-\\bar{y} \\right) ^2}}\n",
    "$$"
   ]
  },
  {
   "cell_type": "code",
   "execution_count": 9,
   "id": "5095d091",
   "metadata": {},
   "outputs": [
    {
     "data": {
      "text/plain": [
       "0.961047324000455"
      ]
     },
     "execution_count": 9,
     "metadata": {},
     "output_type": "execute_result"
    }
   ],
   "source": [
    "from sklearn.metrics import r2_score\n",
    "x_tr = np.linspace(2013, 1950, 64)\n",
    "ypred = model.predict(x_tr[:, np.newaxis])\n",
    "r2_score(Y_train,ypred)"
   ]
  },
  {
   "cell_type": "markdown",
   "id": "f7b0eaf8",
   "metadata": {},
   "source": [
    "### Mean Squared Error\n",
    "The mean of the squared difference between the predicted value and the true value  \n",
    "for evaluating the degree of variation in the data."
   ]
  },
  {
   "cell_type": "code",
   "execution_count": 10,
   "id": "2dfb4b71",
   "metadata": {},
   "outputs": [
    {
     "name": "stdout",
     "output_type": "stream",
     "text": [
      "the train error performance:  [5.54964935e+10]\n",
      "the test error performance:  [2.5759469e+11]\n"
     ]
    }
   ],
   "source": [
    "def calculateMSE(X,Y,m,b):\n",
    "    return sum([(y-m*x -b)**2 for x,y in zip(X,Y)])/len(X)\n",
    "\n",
    "# error performance\n",
    "print(\"the train error performance: \",calculateMSE(X_train,Y_train,beta,e))\n",
    "print(\"the test error performance: \",calculateMSE(X_test,Y_test,beta,e))"
   ]
  },
  {
   "cell_type": "markdown",
   "id": "cf81b349",
   "metadata": {},
   "source": [
    "## improvement for the algorithm\n",
    "We find that the test error performance is really terrible which can be also recognized through the above graph where the fit line can't well predict the population after 2008.  \n",
    "Through analysing the population transformation in terms of resident population and non-resident population, we found that data of non-resident fluctuates greatly than that of resident, so we analyse Resident Population and non-Resident Population seperately in the following method  \n",
    "The steps are almost the same with above one"
   ]
  },
  {
   "cell_type": "code",
   "execution_count": 11,
   "id": "7a2e3529",
   "metadata": {},
   "outputs": [],
   "source": [
    "X = df[['Data Series Singapore']].values\n",
    "Y1 = df['Resident Population'].values\n",
    "Y2 = df['Non-Resident Population'].values"
   ]
  },
  {
   "cell_type": "code",
   "execution_count": 12,
   "id": "1bca394e",
   "metadata": {},
   "outputs": [
    {
     "data": {
      "text/plain": [
       "LinearRegression()"
      ]
     },
     "execution_count": 12,
     "metadata": {},
     "output_type": "execute_result"
    }
   ],
   "source": [
    "model1 = linear_model.LinearRegression()\n",
    "model1.fit(X[8:42], Y1[8:42])\n",
    "model2 = linear_model.LinearRegression()\n",
    "model2.fit(X[8:42], Y2[8:42])"
   ]
  },
  {
   "cell_type": "code",
   "execution_count": 13,
   "id": "e7ef67b1",
   "metadata": {},
   "outputs": [
    {
     "name": "stdout",
     "output_type": "stream",
     "text": [
      "the best fit line(resident population): y= 49732.067838044306 * x+ -96218842.3210084\n",
      "the best fit line(non-resident population): y= 39308.215584415586 * x+ -77822779.8554622\n",
      "the best fit line(total population): y= 89040.28342245989 * x+ -174041622.17647058\n"
     ]
    }
   ],
   "source": [
    "# find the best line\n",
    "x_tr2 = np.linspace(1980, 2021, 42)\n",
    "ypred1 = model1.predict(x_tr2[:, np.newaxis])\n",
    "ypred2 = model2.predict(x_tr2[:, np.newaxis])\n",
    "beta1 = model1.coef_[0]\n",
    "e1 = model1.intercept_\n",
    "beta2 = model2.coef_[0]\n",
    "e2 = model2.intercept_\n",
    "print(\"the best fit line(resident population): \"\"y=\",beta1,\"* x+\",e1)\n",
    "print(\"the best fit line(non-resident population): \"\"y=\",beta2,\"* x+\",e2)\n",
    "print(\"the best fit line(total population): \"\"y=\",beta1+beta2,\"* x+\",e1+e2)"
   ]
  },
  {
   "cell_type": "code",
   "execution_count": 14,
   "id": "781cf54f",
   "metadata": {},
   "outputs": [
    {
     "data": {
      "image/png": "[encoded data removed]",
      "text/plain": [
       "<Figure size 648x360 with 1 Axes>"
      ]
     },
     "metadata": {
      "needs_background": "light"
     },
     "output_type": "display_data"
    }
   ],
   "source": [
    "# plot the graph\n",
    "fig, ax = plt.subplots(1, 1, figsize=(9, 5))\n",
    "ax.plot(x_tr2, ypred1+ypred2,'b',label='total population')\n",
    "ax.scatter(X[8:42], Y[8:42],label= 'Training_total-population')\n",
    "ax.scatter(X[0:8], Y[0:8],label= 'Testing_total-population')\n",
    "\n",
    "ax.plot(x_tr2, ypred1,'m',label='resident population')\n",
    "ax.scatter(X[8:42], Y1[8:42],label= 'Training_resident')\n",
    "ax.scatter(X[0:8], Y1[0:8],label= 'Testing_resident')\n",
    "\n",
    "ax.plot(x_tr2, ypred2,'r',label='non-resident population')\n",
    "ax.scatter(X[8:42], Y2[8:42],label= 'Training_non-resident')\n",
    "ax.scatter(X[0:8], Y2[0:8],label= 'Testing_non-resident')\n",
    "\n",
    "\n",
    "ax.set_title(\"population in Singapore\")\n",
    "plt.legend(loc=2)\n",
    "plt.xlabel(\"x\")\n",
    "plt.ylabel(\"y\")\n",
    "plt.grid()"
   ]
  },
  {
   "cell_type": "code",
   "execution_count": 15,
   "id": "eed57f5c",
   "metadata": {},
   "outputs": [
    {
     "data": {
      "image/png": "[encoded data removed]",
      "text/plain": [
       "<Figure size 648x360 with 1 Axes>"
      ]
     },
     "metadata": {
      "needs_background": "light"
     },
     "output_type": "display_data"
    }
   ],
   "source": [
    "x_tr = np.linspace(1980, 2021, 72)\n",
    "ypred = model.predict(x_tr[:, np.newaxis])\n",
    "fig, ax = plt.subplots(1, 1, figsize=(9, 5))\n",
    "ax.plot(x_tr, ypred,'m',label='predict1')\n",
    "ax.plot(x_tr2, ypred1+ypred2,'r',label='predict2')\n",
    "ax.scatter(X[:-30], Y[:-30],label= 'Training Data')\n",
    "ax.scatter(X_test, Y_test,label= 'Testing Data')\n",
    "ax.set_title(\"population in Singapore\")\n",
    "plt.legend(loc=2)\n",
    "plt.xlabel(\"x\")\n",
    "plt.ylabel(\"y\")\n",
    "plt.grid()"
   ]
  },
  {
   "cell_type": "markdown",
   "id": "6da47fa5",
   "metadata": {},
   "source": [
    "We can see that the test error reduces a lot"
   ]
  },
  {
   "cell_type": "code",
   "execution_count": 16,
   "id": "fe9ecebd",
   "metadata": {},
   "outputs": [
    {
     "name": "stdout",
     "output_type": "stream",
     "text": [
      "the test error performance(predict1):  [2.5759469e+11]\n",
      "the test error performance(predict2):  [3.87249042e+10]\n"
     ]
    }
   ],
   "source": [
    "print(\"the test error performance(predict1): \",calculateMSE(X_test,Y_test,beta,e))\n",
    "print(\"the test error performance(predict2): \",calculateMSE(X_test,Y_test,beta1+beta2,e1+e2))"
   ]
  },
  {
   "cell_type": "markdown",
   "id": "a4310621",
   "metadata": {},
   "source": [
    "## 6. the population statistics of China\n",
    "1. load corresponding data of population in China\n",
    "2. using LinearRegression to fit the data\n",
    "3. get the best line\n",
    "4. plot the graph\n",
    "5. using R-square and MSE to analyze"
   ]
  },
  {
   "cell_type": "code",
   "execution_count": 59,
   "id": "8f9b2eeb",
   "metadata": {},
   "outputs": [],
   "source": [
    "X = df[['Data Series China']].values\n",
    "Y = df['Total Population2'].values\n",
    "X_train=X[0:54]\n",
    "Y_train=Y[0:54]\n",
    "X_test=X[54:62]\n",
    "Y_test=Y[54:62]"
   ]
  },
  {
   "cell_type": "code",
   "execution_count": 60,
   "id": "09b002db",
   "metadata": {},
   "outputs": [
    {
     "data": {
      "text/plain": [
       "LinearRegression()"
      ]
     },
     "execution_count": 60,
     "metadata": {},
     "output_type": "execute_result"
    }
   ],
   "source": [
    "model = linear_model.LinearRegression()\n",
    "model.fit(X_train, Y_train)"
   ]
  },
  {
   "cell_type": "code",
   "execution_count": 61,
   "id": "f85b0a37",
   "metadata": {},
   "outputs": [
    {
     "name": "stdout",
     "output_type": "stream",
     "text": [
      "Q3_D the best fit line(LinearRegression): y= 14006789.21288355 * x+ -26769089641.763542\n"
     ]
    }
   ],
   "source": [
    "# find best fit line\n",
    "x_tr = np.linspace(1960, 2021, 62)\n",
    "ypred = model.predict(x_tr[:, np.newaxis])\n",
    "beta = model.coef_[0]\n",
    "e = model.intercept_\n",
    "print(\"Q3_D the best fit line(LinearRegression): \"\"y=\",beta,\"* x+\",e)"
   ]
  },
  {
   "cell_type": "code",
   "execution_count": 62,
   "id": "614a55af",
   "metadata": {},
   "outputs": [
    {
     "data": {
      "image/png": "[encoded data removed]",
      "text/plain": [
       "<Figure size 648x360 with 1 Axes>"
      ]
     },
     "metadata": {
      "needs_background": "light"
     },
     "output_type": "display_data"
    }
   ],
   "source": [
    "# plot the graph for raw data and predict line\n",
    "fig, ax = plt.subplots(1, 1, figsize=(9, 5))\n",
    "ax.plot(x_tr, ypred,'m',label='LinearRegression')\n",
    "ax.scatter(X_train, Y_train,label= 'Training Data')\n",
    "ax.scatter(X_test, Y_test,label= 'Testing Data')\n",
    "ax.set_title(\"population in China\")\n",
    "plt.legend(loc=2)\n",
    "plt.xlabel(\"x\")\n",
    "plt.ylabel(\"y\")\n",
    "plt.grid()"
   ]
  },
  {
   "cell_type": "code",
   "execution_count": 63,
   "id": "fabddce0",
   "metadata": {},
   "outputs": [
    {
     "data": {
      "text/plain": [
       "0.9832476129933141"
      ]
     },
     "execution_count": 63,
     "metadata": {},
     "output_type": "execute_result"
    }
   ],
   "source": [
    "# R-square performance\n",
    "x_tr = np.linspace(1960, 2013, 54)\n",
    "ypred = model.predict(x_tr[:, np.newaxis])\n",
    "r2_score(Y_train,ypred)"
   ]
  },
  {
   "cell_type": "code",
   "execution_count": 64,
   "id": "ed25080d",
   "metadata": {},
   "outputs": [
    {
     "name": "stdout",
     "output_type": "stream",
     "text": [
      "the train error performance:  [8.11985541e+14]\n",
      "the test error performance:  [9.06545789e+15]\n"
     ]
    }
   ],
   "source": [
    "# error performance\n",
    "print(\"the train error performance: \",calculateMSE(X_train,Y_train,beta,e))\n",
    "print(\"the test error performance: \",calculateMSE(X_test,Y_test,beta,e))"
   ]
  },
  {
   "cell_type": "markdown",
   "id": "6cf77360",
   "metadata": {},
   "source": [
    "## improvement for data with manually error analysis\n",
    "By manually error analysis,We found that the data before 2005 has less reference due to the different trend compared to later years.  \n",
    "We delete the data before 2005 and do the same steps of analysis"
   ]
  },
  {
   "cell_type": "code",
   "execution_count": 67,
   "id": "d3018ae8",
   "metadata": {},
   "outputs": [
    {
     "name": "stdout",
     "output_type": "stream",
     "text": [
      "Q3_D the best fit line(LinearRegression): y= 7249000.000000001 * x+ -13231162111.111113\n",
      "the train error performance:  [1.27828099e+12]\n",
      "the test error performance:  [2.23119808e+13]\n"
     ]
    },
    {
     "data": {
      "image/png": "[encoded data removed]",
      "text/plain": [
       "<Figure size 648x360 with 1 Axes>"
      ]
     },
     "metadata": {
      "needs_background": "light"
     },
     "output_type": "display_data"
    }
   ],
   "source": [
    "X_train=X[45:54]\n",
    "Y_train=Y[45:54]\n",
    "X_test=X[54:62]\n",
    "Y_test=Y[54:62]\n",
    "\n",
    "model = linear_model.LinearRegression()\n",
    "model.fit(X_train, Y_train)\n",
    "\n",
    "# find best fit line\n",
    "x_tr = np.linspace(2005, 2021, 47)\n",
    "ypred = model.predict(x_tr[:, np.newaxis])\n",
    "beta = model.coef_[0]\n",
    "e = model.intercept_\n",
    "print(\"Q3_D the best fit line(LinearRegression): \"\"y=\",beta,\"* x+\",e)\n",
    "\n",
    "# plot the graph for raw data and predict line\n",
    "fig, ax = plt.subplots(1, 1, figsize=(9, 5))\n",
    "ax.plot(x_tr, ypred,'m',label='LinearRegression')\n",
    "ax.scatter(X_train, Y_train,label= 'Training Data')\n",
    "ax.scatter(X_test, Y_test,label= 'Testing Data')\n",
    "ax.set_title(\"population in China\")\n",
    "plt.legend(loc=2)\n",
    "plt.xlabel(\"x\")\n",
    "plt.ylabel(\"y\")\n",
    "plt.grid()\n",
    "\n",
    "# error performance\n",
    "print(\"the train error performance: \",calculateMSE(X_train,Y_train,beta,e))\n",
    "print(\"the test error performance: \",calculateMSE(X_test,Y_test,beta,e))"
   ]
  },
  {
   "cell_type": "markdown",
   "id": "3d264855",
   "metadata": {},
   "source": [
    "## improvement for model using SVM and Neural Network"
   ]
  },
  {
   "cell_type": "markdown",
   "id": "881ce2b7",
   "metadata": {},
   "source": [
    "用其他方法再做一下。svm和神经网络"
   ]
  },
  {
   "cell_type": "markdown",
   "id": "7a323f8c",
   "metadata": {},
   "source": [
    "## svm"
   ]
  },
  {
   "cell_type": "code",
   "execution_count": 7,
   "id": "530668fb",
   "metadata": {},
   "outputs": [
    {
     "data": {
      "text/html": [
       "<div>\n",
       "<style scoped>\n",
       "    .dataframe tbody tr th:only-of-type {\n",
       "        vertical-align: middle;\n",
       "    }\n",
       "\n",
       "    .dataframe tbody tr th {\n",
       "        vertical-align: top;\n",
       "    }\n",
       "\n",
       "    .dataframe thead th {\n",
       "        text-align: right;\n",
       "    }\n",
       "</style>\n",
       "<table border=\"1\" class=\"dataframe\">\n",
       "  <thead>\n",
       "    <tr style=\"text-align: right;\">\n",
       "      <th></th>\n",
       "      <th>Data Series China</th>\n",
       "      <th>Population2</th>\n",
       "      <th>GDP of China</th>\n",
       "      <th>graduates from universities</th>\n",
       "      <th>65</th>\n",
       "      <th>14</th>\n",
       "    </tr>\n",
       "  </thead>\n",
       "  <tbody>\n",
       "    <tr>\n",
       "      <th>0</th>\n",
       "      <td>1960</td>\n",
       "      <td>667070000</td>\n",
       "      <td>89.0</td>\n",
       "      <td>13.7</td>\n",
       "      <td>24604942</td>\n",
       "      <td>265641893</td>\n",
       "    </tr>\n",
       "    <tr>\n",
       "      <th>1</th>\n",
       "      <td>1961</td>\n",
       "      <td>660330000</td>\n",
       "      <td>75.0</td>\n",
       "      <td>15.1</td>\n",
       "      <td>24506581</td>\n",
       "      <td>263302831</td>\n",
       "    </tr>\n",
       "    <tr>\n",
       "      <th>2</th>\n",
       "      <td>1962</td>\n",
       "      <td>665770000</td>\n",
       "      <td>70.0</td>\n",
       "      <td>17.8</td>\n",
       "      <td>24462536</td>\n",
       "      <td>268188604</td>\n",
       "    </tr>\n",
       "    <tr>\n",
       "      <th>3</th>\n",
       "      <td>1963</td>\n",
       "      <td>682335000</td>\n",
       "      <td>74.0</td>\n",
       "      <td>20.1</td>\n",
       "      <td>24558486</td>\n",
       "      <td>278443818</td>\n",
       "    </tr>\n",
       "    <tr>\n",
       "      <th>4</th>\n",
       "      <td>1964</td>\n",
       "      <td>698355000</td>\n",
       "      <td>85.0</td>\n",
       "      <td>20.5</td>\n",
       "      <td>24528808</td>\n",
       "      <td>287297670</td>\n",
       "    </tr>\n",
       "    <tr>\n",
       "      <th>...</th>\n",
       "      <td>...</td>\n",
       "      <td>...</td>\n",
       "      <td>...</td>\n",
       "      <td>...</td>\n",
       "      <td>...</td>\n",
       "      <td>...</td>\n",
       "    </tr>\n",
       "    <tr>\n",
       "      <th>57</th>\n",
       "      <td>2017</td>\n",
       "      <td>1396215000</td>\n",
       "      <td>8816.0</td>\n",
       "      <td>793.6</td>\n",
       "      <td>144440124</td>\n",
       "      <td>250444126</td>\n",
       "    </tr>\n",
       "    <tr>\n",
       "      <th>58</th>\n",
       "      <td>2018</td>\n",
       "      <td>1402760000</td>\n",
       "      <td>9905.0</td>\n",
       "      <td>813.7</td>\n",
       "      <td>153193786</td>\n",
       "      <td>250771444</td>\n",
       "    </tr>\n",
       "    <tr>\n",
       "      <th>59</th>\n",
       "      <td>2019</td>\n",
       "      <td>1407745000</td>\n",
       "      <td>10143.0</td>\n",
       "      <td>822.5</td>\n",
       "      <td>161499224</td>\n",
       "      <td>250642076</td>\n",
       "    </tr>\n",
       "    <tr>\n",
       "      <th>60</th>\n",
       "      <td>2020</td>\n",
       "      <td>1411100000</td>\n",
       "      <td>10434.0</td>\n",
       "      <td>870.1</td>\n",
       "      <td>168884275</td>\n",
       "      <td>249931427</td>\n",
       "    </tr>\n",
       "    <tr>\n",
       "      <th>61</th>\n",
       "      <td>2021</td>\n",
       "      <td>1412360000</td>\n",
       "      <td>12551.5</td>\n",
       "      <td>903.8</td>\n",
       "      <td>175318996</td>\n",
       "      <td>248510399</td>\n",
       "    </tr>\n",
       "  </tbody>\n",
       "</table>\n",
       "<p>62 rows × 6 columns</p>\n",
       "</div>"
      ],
      "text/plain": [
       "    Data Series China  Population2  GDP of China  graduates from universities  \\\n",
       "0                1960    667070000          89.0                         13.7   \n",
       "1                1961    660330000          75.0                         15.1   \n",
       "2                1962    665770000          70.0                         17.8   \n",
       "3                1963    682335000          74.0                         20.1   \n",
       "4                1964    698355000          85.0                         20.5   \n",
       "..                ...          ...           ...                          ...   \n",
       "57               2017   1396215000        8816.0                        793.6   \n",
       "58               2018   1402760000        9905.0                        813.7   \n",
       "59               2019   1407745000       10143.0                        822.5   \n",
       "60               2020   1411100000       10434.0                        870.1   \n",
       "61               2021   1412360000       12551.5                        903.8   \n",
       "\n",
       "           65         14  \n",
       "0    24604942  265641893  \n",
       "1    24506581  263302831  \n",
       "2    24462536  268188604  \n",
       "3    24558486  278443818  \n",
       "4    24528808  287297670  \n",
       "..        ...        ...  \n",
       "57  144440124  250444126  \n",
       "58  153193786  250771444  \n",
       "59  161499224  250642076  \n",
       "60  168884275  249931427  \n",
       "61  175318996  248510399  \n",
       "\n",
       "[62 rows x 6 columns]"
      ]
     },
     "execution_count": 7,
     "metadata": {},
     "output_type": "execute_result"
    }
   ],
   "source": [
    "import numpy as np\n",
    "import pandas as pd\n",
    "import matplotlib.pyplot as plt\n",
    "from panel.interact import interact\n",
    "from scipy import stats\n",
    "from sklearn.svm import SVC\n",
    "from sklearn.model_selection import train_test_split\n",
    "import seaborn as sns\n",
    "from sklearn.metrics import confusion_matrix\n",
    "plt.style.use('seaborn')\n",
    "df2 = pd.read_csv('china.csv')\n",
    "df2"
   ]
  },
  {
   "cell_type": "code",
   "execution_count": 8,
   "id": "8e73809b",
   "metadata": {},
   "outputs": [
    {
     "name": "stdout",
     "output_type": "stream",
     "text": [
      "660330000 1412360000 [1412360000]\n"
     ]
    },
    {
     "data": {
      "image/png": "[encoded data removed]",
      "text/plain": [
       "<Figure size 576x396 with 1 Axes>"
      ]
     },
     "metadata": {},
     "output_type": "display_data"
    }
   ],
   "source": [
    "# load the data\n",
    "X = df2[['Data Series China']].values\n",
    "Y = df2['Population2'].values\n",
    "(Xtrain,Xtest,Ytrain,Ytest) = train_test_split(X,Y,test_size = 0.3)   \n",
    "clf1 = SVC(kernel = 'rbf',C=10.0,gamma=0.001)\n",
    "# train SVM\n",
    "clf1.fit(Xtrain,Ytrain)\n",
    "#predict test\n",
    "y_pd= clf1.predict(X)\n",
    "\n",
    "# plot the graph\n",
    "plt.scatter(X,y_pd,label='SVM')\n",
    "plt.scatter(Xtrain, Ytrain,label= 'Training Data')\n",
    "plt.scatter(Xtest, Ytest,label= 'Testing Data')\n",
    "legend = plt.legend()\n",
    "\n",
    "# predict 2030 2050\n",
    "minimum = Y.min()\n",
    "maximum = Y.max()\n",
    "M=[[2030]]\n",
    "Y0 = clf1.predict([[2030]])\n",
    "\n",
    "print(minimum,maximum,Y0)\n",
    "# Y0[1]=Y0[1]*0.98\n",
    "# print(\"2030 China population: %.0f\"%(Y0[0]*maximum+minimum))\n",
    "# print(\"2050 China population: %.0f\"%(Y0[1]*maximum+minimum))"
   ]
  },
  {
   "cell_type": "markdown",
   "id": "6d3361cd",
   "metadata": {},
   "source": [
    "# chinese pattern"
   ]
  },
  {
   "cell_type": "code",
   "execution_count": 9,
   "id": "7a5067e4",
   "metadata": {},
   "outputs": [
    {
     "data": {
      "text/plain": [
       "Text(0.5, 1.0, 'Population growth rate')"
      ]
     },
     "execution_count": 9,
     "metadata": {},
     "output_type": "execute_result"
    },
    {
     "data": {
      "image/png": "[encoded data removed]",
      "text/plain": [
       "<Figure size 576x396 with 1 Axes>"
      ]
     },
     "metadata": {},
     "output_type": "display_data"
    }
   ],
   "source": [
    "df1 = df2[['Data Series China','Population2']]\n",
    "# 设定标定时间\n",
    "df1 = df1.set_index(\"Data Series China\")\n",
    "# 求每年增长的百分比\n",
    "K=df1.pct_change(periods=-1)\n",
    "X = np.array(X)\n",
    "K = np.array(K)\n",
    "plt.plot(X,K)\n",
    "plt.xlabel('particular year')\n",
    "plt.ylabel('Growth rate')\n",
    "plt.title('Population growth rate')"
   ]
  },
  {
   "cell_type": "markdown",
   "id": "ca99f3b7",
   "metadata": {},
   "source": [
    "as we can see, the growth rate are flucated in these 60 years"
   ]
  },
  {
   "cell_type": "markdown",
   "id": "df2b28ed",
   "metadata": {},
   "source": [
    "# use neural network to consider more elements that effect population"
   ]
  },
  {
   "cell_type": "code",
   "execution_count": 10,
   "id": "0875ce30",
   "metadata": {},
   "outputs": [],
   "source": [
    "def sigmoid(x):\n",
    "     # 第一层到第二层的激活函数  \n",
    "    return 1 / (1 + np.exp(-x))  "
   ]
  },
  {
   "cell_type": "code",
   "execution_count": 11,
   "id": "58bb699f",
   "metadata": {},
   "outputs": [],
   "source": [
    "def deriv_sigmoid(x):  \n",
    "    # 第一层到第二层的激活函数的求导函数  \n",
    "    fx = sigmoid(x)  \n",
    "    return fx * (1 - fx)  "
   ]
  },
  {
   "cell_type": "code",
   "execution_count": 12,
   "id": "ecf88888",
   "metadata": {},
   "outputs": [],
   "source": [
    "def mse_loss(y_true,y_pred):  \n",
    "    # 使用方差作为损失函数  \n",
    "    return ((y_true - y_pred) ** 2).mean()  "
   ]
  },
  {
   "cell_type": "code",
   "execution_count": 13,
   "id": "600c398b",
   "metadata": {},
   "outputs": [],
   "source": [
    "def R_square(y_true, y_pred):\n",
    "    # 使用R^2作为损失函数\n",
    "    return(())"
   ]
  },
  {
   "cell_type": "code",
   "execution_count": 14,
   "id": "383d799b",
   "metadata": {},
   "outputs": [],
   "source": [
    "class OurNeuralNetwork:  \n",
    "  \n",
    "    def __init__(self):  \n",
    "        # 第一层到第二层的函数  \n",
    "        self.w11 = np.random.normal()  \n",
    "        self.w12 = np.random.normal()  \n",
    "        self.w13 = np.random.normal()  \n",
    "        self.w14 = np.random.normal()  \n",
    "        self.w21 = np.random.normal()  \n",
    "        self.w22 = np.random.normal()  \n",
    "        self.w23 = np.random.normal()  \n",
    "        self.w24 = np.random.normal()  \n",
    "        # 第二层到第三层的函数  \n",
    "        self.w1 = np.random.normal()  \n",
    "        self.w2 = np.random.normal()  \n",
    "        # 截距项，Biases  \n",
    "        self.b1 = np.random.normal()  \n",
    "        self.b2 = np.random.normal()  \n",
    "        self.b3 = np.random.normal()\n",
    "        \n",
    "    def feedforward(self,x):      \n",
    "        # 前向传播学习  \n",
    "        h1 = sigmoid(self.w11 * x[0] + self.w12 * x[1] + self.w13 * x[2] + self.w14 * x[3] + self.b1)  \n",
    "        h2 = sigmoid(self.w21 * x[0] + self.w22 * x[1] + self.w23 * x[2] + self.w24 * x[3] + self.b1)  \n",
    "        o1 = self.w1 * h1 + self.w2 * h2 + self.b3  \n",
    "        return o1\n",
    "    \n",
    "          #训练函数  \n",
    "    def train(self, data, all_y_trues):  \n",
    "        learn_rate = 0.01  # 学习率  \n",
    "        epochs = 1000  # 训练的次数  \n",
    "        # 画图数据  \n",
    "        self.loss = np.zeros(100)  \n",
    "        self.sum = 0;  \n",
    "        # 开始训练  \n",
    "        for epoch in range(epochs):  \n",
    "            for x, y_true in zip(data, all_y_trues):  \n",
    "            # 计算h1  \n",
    "                h1 = sigmoid(self.w11 * x[0] + self.w12 * x[1] + self.w13 * x[2] + self.w14 * x[3] + self.b1)  \n",
    "            # 计算h2  \n",
    "                h2 = sigmoid(self.w21 * x[0] + self.w22 * x[1] + self.w23 * x[2] + self.w24 * x[3] + self.b2)  \n",
    "            #计算输出节点  \n",
    "                y_pred = self.w1 * h1 + self.w2 * h2 + self.b3  \n",
    "            # 反向传播计算导数  \n",
    "                d_L_d_ypred = -2 * (y_true - y_pred)  \n",
    "                d_ypred_d_w1 = h1  \n",
    "                d_ypred_d_w2 = h2  \n",
    "                d_ypred_d_b3 = 0  \n",
    "                d_ypred_d_h1 = self.w1  \n",
    "                d_ypred_d_h2 = self.w2  \n",
    "                sum_1=self.w11 * x[0] + self.w12 * x[1] + self.w13 * x[2] + self.w14 * x[3] + self.b1  \n",
    "                d_h1_d_w11 = x[0] * deriv_sigmoid(sum_1)  \n",
    "                d_h1_d_w12 = x[1] * deriv_sigmoid(sum_1)  \n",
    "                d_h1_d_w13 = x[2] * deriv_sigmoid(sum_1)  \n",
    "                d_h1_d_w14 = x[3] * deriv_sigmoid(sum_1)  \n",
    "                d_h1_d_b1 = deriv_sigmoid(sum_1)  \n",
    "                sum_2 = self.w21 * x[0] + self.w22 * x[1] + self.w23 * x[2] + self.w24 * x[3] + self.b2  \n",
    "                d_h1_d_w21 = x[0] * deriv_sigmoid(sum_2)  \n",
    "                d_h1_d_w22 = x[1] * deriv_sigmoid(sum_2)  \n",
    "                d_h1_d_w23 = x[2] * deriv_sigmoid(sum_2)  \n",
    "                d_h1_d_w24 = x[3] * deriv_sigmoid(sum_2)  \n",
    "                d_h1_d_b2 = deriv_sigmoid(sum_2)  \n",
    "               # 梯度下降法  \n",
    "                self.w11 -= learn_rate * d_L_d_ypred * d_ypred_d_h1 * d_h1_d_w11  \n",
    "                self.w12 -= learn_rate * d_L_d_ypred * d_ypred_d_h1 * d_h1_d_w12  \n",
    "                self.w13 -= learn_rate * d_L_d_ypred * d_ypred_d_h1 * d_h1_d_w13  \n",
    "                self.w14 -= learn_rate * d_L_d_ypred * d_ypred_d_h1 * d_h1_d_w14  \n",
    "                self.b1 -= learn_rate * d_L_d_ypred * d_ypred_d_h1 * d_h1_d_b1  \n",
    "                self.w21 -= learn_rate * d_L_d_ypred * d_ypred_d_h2 * d_h1_d_w21  \n",
    "                self.w22 -= learn_rate * d_L_d_ypred * d_ypred_d_h2 * d_h1_d_w22  \n",
    "                self.w23 -= learn_rate * d_L_d_ypred * d_ypred_d_h2 * d_h1_d_w23  \n",
    "                self.w24 -= learn_rate * d_L_d_ypred * d_ypred_d_h2 * d_h1_d_w24  \n",
    "                self.b2 -= learn_rate * d_L_d_ypred * d_ypred_d_h2 * d_h1_d_b2  \n",
    "                self.w1 -= learn_rate * d_L_d_ypred * d_ypred_d_w1  \n",
    "                self.w1 -= learn_rate * d_L_d_ypred * d_ypred_d_w2  \n",
    "                self.b3 -= learn_rate * d_L_d_ypred * d_ypred_d_b3  \n",
    "  \n",
    "            if epoch % 10 == 0:  \n",
    "                y_preds = np.apply_along_axis(self.feedforward, 1, data)  \n",
    "                loss = mse_loss(all_y_trues, y_preds)  \n",
    "                print(\"Epoch %d loss: %.3f\" % (epoch, loss))  \n",
    "                self.loss[self.sum] = loss  \n",
    "                self.sum = self.sum + 1  "
   ]
  },
  {
   "cell_type": "code",
   "execution_count": 21,
   "id": "fc0eea05",
   "metadata": {},
   "outputs": [
    {
     "name": "stdout",
     "output_type": "stream",
     "text": [
      "Epoch 0 loss: 0.085\n",
      "Epoch 10 loss: 0.008\n",
      "Epoch 20 loss: 0.007\n",
      "Epoch 30 loss: 0.006\n",
      "Epoch 40 loss: 0.006\n",
      "Epoch 50 loss: 0.005\n",
      "Epoch 60 loss: 0.005\n",
      "Epoch 70 loss: 0.004\n",
      "Epoch 80 loss: 0.004\n",
      "Epoch 90 loss: 0.004\n",
      "Epoch 100 loss: 0.004\n",
      "Epoch 110 loss: 0.004\n",
      "Epoch 120 loss: 0.004\n",
      "Epoch 130 loss: 0.003\n",
      "Epoch 140 loss: 0.003\n",
      "Epoch 150 loss: 0.003\n",
      "Epoch 160 loss: 0.003\n",
      "Epoch 170 loss: 0.003\n",
      "Epoch 180 loss: 0.003\n",
      "Epoch 190 loss: 0.003\n",
      "Epoch 200 loss: 0.003\n",
      "Epoch 210 loss: 0.003\n",
      "Epoch 220 loss: 0.003\n",
      "Epoch 230 loss: 0.003\n",
      "Epoch 240 loss: 0.003\n",
      "Epoch 250 loss: 0.003\n",
      "Epoch 260 loss: 0.003\n",
      "Epoch 270 loss: 0.003\n",
      "Epoch 280 loss: 0.003\n",
      "Epoch 290 loss: 0.003\n",
      "Epoch 300 loss: 0.003\n",
      "Epoch 310 loss: 0.003\n",
      "Epoch 320 loss: 0.003\n",
      "Epoch 330 loss: 0.003\n",
      "Epoch 340 loss: 0.003\n",
      "Epoch 350 loss: 0.003\n",
      "Epoch 360 loss: 0.003\n",
      "Epoch 370 loss: 0.003\n",
      "Epoch 380 loss: 0.003\n",
      "Epoch 390 loss: 0.003\n",
      "Epoch 400 loss: 0.003\n",
      "Epoch 410 loss: 0.003\n",
      "Epoch 420 loss: 0.003\n",
      "Epoch 430 loss: 0.003\n",
      "Epoch 440 loss: 0.003\n",
      "Epoch 450 loss: 0.003\n",
      "Epoch 460 loss: 0.003\n",
      "Epoch 470 loss: 0.003\n",
      "Epoch 480 loss: 0.003\n",
      "Epoch 490 loss: 0.003\n",
      "Epoch 500 loss: 0.003\n",
      "Epoch 510 loss: 0.003\n",
      "Epoch 520 loss: 0.003\n",
      "Epoch 530 loss: 0.003\n",
      "Epoch 540 loss: 0.003\n",
      "Epoch 550 loss: 0.003\n",
      "Epoch 560 loss: 0.003\n",
      "Epoch 570 loss: 0.003\n",
      "Epoch 580 loss: 0.003\n",
      "Epoch 590 loss: 0.003\n",
      "Epoch 600 loss: 0.003\n",
      "Epoch 610 loss: 0.003\n",
      "Epoch 620 loss: 0.003\n",
      "Epoch 630 loss: 0.003\n",
      "Epoch 640 loss: 0.003\n",
      "Epoch 650 loss: 0.003\n",
      "Epoch 660 loss: 0.003\n",
      "Epoch 670 loss: 0.003\n",
      "Epoch 680 loss: 0.003\n",
      "Epoch 690 loss: 0.003\n",
      "Epoch 700 loss: 0.003\n",
      "Epoch 710 loss: 0.003\n",
      "Epoch 720 loss: 0.003\n",
      "Epoch 730 loss: 0.003\n",
      "Epoch 740 loss: 0.003\n",
      "Epoch 750 loss: 0.003\n",
      "Epoch 760 loss: 0.003\n",
      "Epoch 770 loss: 0.003\n",
      "Epoch 780 loss: 0.003\n",
      "Epoch 790 loss: 0.003\n",
      "Epoch 800 loss: 0.003\n",
      "Epoch 810 loss: 0.003\n",
      "Epoch 820 loss: 0.003\n",
      "Epoch 830 loss: 0.003\n",
      "Epoch 840 loss: 0.003\n",
      "Epoch 850 loss: 0.003\n",
      "Epoch 860 loss: 0.003\n",
      "Epoch 870 loss: 0.003\n",
      "Epoch 880 loss: 0.003\n",
      "Epoch 890 loss: 0.003\n",
      "Epoch 900 loss: 0.003\n",
      "Epoch 910 loss: 0.003\n",
      "Epoch 920 loss: 0.003\n",
      "Epoch 930 loss: 0.003\n",
      "Epoch 940 loss: 0.003\n",
      "Epoch 950 loss: 0.003\n",
      "Epoch 960 loss: 0.003\n",
      "Epoch 970 loss: 0.003\n",
      "Epoch 980 loss: 0.003\n",
      "Epoch 990 loss: 0.003\n",
      "w11-->-1.478\n",
      "w12-->-2.057\n",
      "w13-->1.543\n",
      "w14-->-0.188\n",
      "w21-->-2.022\n",
      "w22-->-0.201\n",
      "w23-->-1.188\n",
      "w24-->-0.975\n",
      "w1-->0.710\n",
      "w2-->-2.400\n",
      "b1-->-0.206\n",
      "b2-->-0.307\n",
      "b3-->0.703\n"
     ]
    },
    {
     "name": "stderr",
     "output_type": "stream",
     "text": [
      "C:\\Users\\Administrator.CH-202203160019\\AppData\\Local\\Temp\\ipykernel_4520\\2172598839.py:3: RuntimeWarning: overflow encountered in exp\n",
      "  return 1 / (1 + np.exp(-x))\n"
     ]
    },
    {
     "data": {
      "image/png": "[encoded data removed]",
      "text/plain": [
       "<Figure size 576x396 with 1 Axes>"
      ]
     },
     "metadata": {},
     "output_type": "display_data"
    },
    {
     "data": {
      "image/png": "[encoded data removed]",
      "text/plain": [
       "<Figure size 576x396 with 1 Axes>"
      ]
     },
     "metadata": {},
     "output_type": "display_data"
    }
   ],
   "source": [
    "import sys                    \n",
    "# 文件的名字  \n",
    "FILENAME = \"china.csv\"  \n",
    "# 禁用科学计数法  \n",
    "pd.set_option('float_format', lambda x: '%.3f' % x)  \n",
    "np.set_printoptions(suppress=True, threshold=sys.maxsize) \n",
    "\n",
    "# 得到的DataFrame分别为人数、教育程度、gdp、老年人人数、青年人人数\n",
    "data = pd.read_csv(FILENAME)  \n",
    "# DataFrame转化为array  \n",
    "DataArray = data.values  \n",
    "Y = DataArray[:, 1]  \n",
    "X = DataArray[:, 1:5]  \n",
    "X = np.array(X)#转化为array,自变量  \n",
    "Y = np.array(Y)#转化为array，因变量总人数  \n",
    "# 处理数据  \n",
    "data = np.array(X)  \n",
    "data_mean = np.sum(data, axis=0) / np.size(data, 0)  \n",
    "data = (data - data_mean) / np.max(data)  \n",
    "all_y_trues = np.array(Y)  \n",
    "all_y_trues_mean = np.sum(all_y_trues) / np.size(all_y_trues)  \n",
    "all_y_trues = (all_y_trues - all_y_trues_mean) / np.max(all_y_trues)  \n",
    "# 训练数据  \n",
    "network = OurNeuralNetwork()  \n",
    "network.train(data, all_y_trues)  \n",
    "# 输出神经网络参数  \n",
    "print(\"w11-->%.3f\" % network.w11)  \n",
    "print(\"w12-->%.3f\" % network.w12)  \n",
    "print(\"w13-->%.3f\" % network.w13)  \n",
    "print(\"w14-->%.3f\" % network.w14)  \n",
    "print(\"w21-->%.3f\" % network.w21)  \n",
    "print(\"w22-->%.3f\" % network.w22)  \n",
    "print(\"w23-->%.3f\" % network.w23)  \n",
    "print(\"w24-->%.3f\" % network.w24)  \n",
    "print(\"w1-->%.3f\" % network.w1)  \n",
    "print(\"w2-->%.3f\" % network.w2)  \n",
    "print(\"b1-->%.3f\" % network.b1)  \n",
    "print(\"b2-->%.3f\" % network.b2)  \n",
    "print(\"b3-->%.3f\" % network.b3)  \n",
    "# 图形设定\n",
    "#plt.rcParams['font.sans-serif']=['SimHei']  \n",
    "plt.rcParams['axes.unicode_minus'] = False  \n",
    "# 测试数据  \n",
    "testData = np.array([12551.5,903.8,175318996,248510399])  \n",
    "testPrice = network.feedforward(testData)  \n",
    "# 损失函数曲线图  \n",
    "plt.plot(np.arange(100), network.loss)  \n",
    "plt.show()  \n",
    "# 真实值与预测值对比  \n",
    "y_preds = np.apply_along_axis(network.feedforward, 1, data)  \n",
    "\n",
    "plt.plot(1960+np.arange(62), np.array(Y) ,\"r^\",label='real')  \n",
    "plt.plot(1960+np.arange(62),y_preds*np.max(np.array(Y))+all_y_trues_mean,\"bs\",label='prediction')  \n",
    "plt.title(\"prediction and real value\")  \n",
    "plt.xlabel('year from 1960')\n",
    "plt.legend(loc=2)\n",
    "plt.ylabel('population')\n",
    "plt.show()  \n"
   ]
  },
  {
   "cell_type": "markdown",
   "id": "826a65da",
   "metadata": {},
   "source": [
    "as we can see, the prediction based on education and types of people etc can give us a very precison prediction of population"
   ]
  },
  {
   "cell_type": "code",
   "execution_count": null,
   "id": "6d512577",
   "metadata": {},
   "outputs": [],
   "source": []
  },
  {
   "cell_type": "code",
   "execution_count": null,
   "id": "7effd820",
   "metadata": {},
   "outputs": [],
   "source": []
  }
 ],
 "metadata": {
  "kernelspec": {
   "display_name": "Python 3 (ipykernel)",
   "language": "python",
   "name": "python3"
  },
  "language_info": {
   "codemirror_mode": {
    "name": "ipython",
    "version": 3
   },
   "file_extension": ".py",
   "mimetype": "text/x-python",
   "name": "python",
   "nbconvert_exporter": "python",
   "pygments_lexer": "ipython3",
   "version": "3.9.12"
  }
 },
 "nbformat": 4,
 "nbformat_minor": 5
}
