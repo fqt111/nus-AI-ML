{
 "cells": [
  {
   "cell_type": "code",
   "execution_count": 9,
   "id": "2aadc780",
   "metadata": {},
   "outputs": [],
   "source": [
    "import pandas as pd\n",
    "import numpy as np\n",
    "import seaborn as sns\n",
    "import matplotlib.pyplot as plt\n",
    "from matplotlib.pyplot import figure\n",
    "\n",
    "from sklearn.model_selection import train_test_split\n",
    "from sklearn.tree import DecisionTreeClassifier\n",
    "from sklearn import tree\n",
    "import graphviz\n",
    "from sklearn import preprocessing\n",
    "df = pd.read_csv('question2.csv')"
   ]
  },
  {
   "cell_type": "code",
   "execution_count": 10,
   "id": "6a3a4476",
   "metadata": {},
   "outputs": [
    {
     "name": "stderr",
     "output_type": "stream",
     "text": [
      "'open' 不是内部或外部命令，也不是可运行的程序\n",
      "或批处理文件。\n"
     ]
    }
   ],
   "source": [
    "X = df[['A', 'B', 'C']].values\n",
    "Y = df['Y'].values\n",
    "(X_train,X_test,Y_train,Y_test)=train_test_split(X, Y, test_size=0.5)\n",
    "\n",
    "clf = DecisionTreeClassifier()\n",
    "clf.fit(X, Y)\n",
    "dot_data = tree.export_graphviz(clf, out_file=None) \n",
    "graph = graphviz.Source(dot_data) \n",
    "graph.render(\"question2\") \n",
    "!open iris.pdf"
   ]
  },
  {
   "cell_type": "code",
   "execution_count": null,
   "id": "dd18735d",
   "metadata": {},
   "outputs": [],
   "source": []
  }
 ],
 "metadata": {
  "kernelspec": {
   "display_name": "Python 3 (ipykernel)",
   "language": "python",
   "name": "python3"
  },
  "language_info": {
   "codemirror_mode": {
    "name": "ipython",
    "version": 3
   },
   "file_extension": ".py",
   "mimetype": "text/x-python",
   "name": "python",
   "nbconvert_exporter": "python",
   "pygments_lexer": "ipython3",
   "version": "3.9.12"
  }
 },
 "nbformat": 4,
 "nbformat_minor": 5
}
