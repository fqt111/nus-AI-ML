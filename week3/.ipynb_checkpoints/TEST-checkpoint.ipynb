{
 "cells": [
  {
   "cell_type": "markdown",
   "metadata": {},
   "source": [
    "# Week3 Assignment\n",
    "# FENG QINGTIAN"
   ]
  },
  {
   "cell_type": "markdown",
   "metadata": {},
   "source": [
    "### 1. First, we import several dependencies such as pandas, numpy, seaborn, and also several modules in scikit-learn. We also going to read the Iris CSV file using pandas."
   ]
  },
  {
   "cell_type": "code",
   "execution_count": 18,
   "metadata": {},
   "outputs": [],
   "source": [
    "import pandas as pd\n",
    "import numpy as np\n",
    "import seaborn as sns\n",
    "import matplotlib.pyplot as plt\n",
    "from matplotlib.pyplot import figure\n",
    "\n",
    "from sklearn.model_selection import train_test_split\n",
    "from sklearn.tree import DecisionTreeClassifier\n",
    "from sklearn.ensemble import RandomForestClassifier\n",
    "from sklearn.model_selection import cross_val_score\n",
    "from sklearn import tree\n",
    "import graphviz\n",
    "from sklearn import preprocessing\n",
    "\n",
    "df = pd.read_csv('wdbc.csv')\n"
   ]
  },
  {
   "cell_type": "markdown",
   "metadata": {},
   "source": [
    "### 2. After importing the data, let’s check whether we have null values in our dataset or not. We will see there are no null/missing values."
   ]
  },
  {
   "cell_type": "code",
   "execution_count": 19,
   "metadata": {},
   "outputs": [
    {
     "data": {
      "text/plain": [
       "ID_Number             False\n",
       "Diagnosis             False\n",
       "radius1               False\n",
       "radius2               False\n",
       "radius3               False\n",
       "texture1              False\n",
       "texture2              False\n",
       "texture3              False\n",
       "perimeter1            False\n",
       "perimeter2            False\n",
       "perimeter3            False\n",
       "area1                 False\n",
       "area2                 False\n",
       "area3                 False\n",
       "smoothness1           False\n",
       "smoothness2           False\n",
       "smoothness3           False\n",
       "compactness1          False\n",
       "compactness2          False\n",
       "compactness3          False\n",
       "concavity1            False\n",
       "concavity2            False\n",
       "concavity3            False\n",
       "concave_points1       False\n",
       "concave_points2       False\n",
       "concave_points3       False\n",
       "symmetry1             False\n",
       "symmetry2             False\n",
       "symmetry3             False\n",
       "fractal_dimension1    False\n",
       "fractal_dimension2    False\n",
       "fractal_dimension3    False\n",
       "dtype: bool"
      ]
     },
     "execution_count": 19,
     "metadata": {},
     "output_type": "execute_result"
    }
   ],
   "source": [
    "df.isnull().any()"
   ]
  },
  {
   "cell_type": "markdown",
   "metadata": {},
   "source": [
    "### 3. Let's understand more about the data. We will start by getting to know the type of each column values.  We see that the width and length column are represented using float64 and the name of the species uses object or string.\n",
    "\n"
   ]
  },
  {
   "cell_type": "code",
   "execution_count": 20,
   "metadata": {},
   "outputs": [
    {
     "data": {
      "text/plain": [
       "ID_Number               int64\n",
       "Diagnosis               int64\n",
       "radius1               float64\n",
       "radius2               float64\n",
       "radius3               float64\n",
       "texture1              float64\n",
       "texture2              float64\n",
       "texture3              float64\n",
       "perimeter1            float64\n",
       "perimeter2            float64\n",
       "perimeter3            float64\n",
       "area1                 float64\n",
       "area2                 float64\n",
       "area3                 float64\n",
       "smoothness1           float64\n",
       "smoothness2           float64\n",
       "smoothness3           float64\n",
       "compactness1          float64\n",
       "compactness2          float64\n",
       "compactness3          float64\n",
       "concavity1            float64\n",
       "concavity2            float64\n",
       "concavity3            float64\n",
       "concave_points1       float64\n",
       "concave_points2       float64\n",
       "concave_points3       float64\n",
       "symmetry1             float64\n",
       "symmetry2             float64\n",
       "symmetry3             float64\n",
       "fractal_dimension1    float64\n",
       "fractal_dimension2    float64\n",
       "fractal_dimension3    float64\n",
       "dtype: object"
      ]
     },
     "execution_count": 20,
     "metadata": {},
     "output_type": "execute_result"
    }
   ],
   "source": [
    "df.dtypes"
   ]
  },
  {
   "cell_type": "markdown",
   "metadata": {},
   "source": [
    "### 4. Let’s look at a quick summary of the data."
   ]
  },
  {
   "cell_type": "code",
   "execution_count": 21,
   "metadata": {},
   "outputs": [
    {
     "data": {
      "text/html": [
       "<div>\n",
       "<style scoped>\n",
       "    .dataframe tbody tr th:only-of-type {\n",
       "        vertical-align: middle;\n",
       "    }\n",
       "\n",
       "    .dataframe tbody tr th {\n",
       "        vertical-align: top;\n",
       "    }\n",
       "\n",
       "    .dataframe thead th {\n",
       "        text-align: right;\n",
       "    }\n",
       "</style>\n",
       "<table border=\"1\" class=\"dataframe\">\n",
       "  <thead>\n",
       "    <tr style=\"text-align: right;\">\n",
       "      <th></th>\n",
       "      <th>ID_Number</th>\n",
       "      <th>Diagnosis</th>\n",
       "      <th>radius1</th>\n",
       "      <th>radius2</th>\n",
       "      <th>radius3</th>\n",
       "      <th>texture1</th>\n",
       "      <th>texture2</th>\n",
       "      <th>texture3</th>\n",
       "      <th>perimeter1</th>\n",
       "      <th>perimeter2</th>\n",
       "      <th>...</th>\n",
       "      <th>concavity3</th>\n",
       "      <th>concave_points1</th>\n",
       "      <th>concave_points2</th>\n",
       "      <th>concave_points3</th>\n",
       "      <th>symmetry1</th>\n",
       "      <th>symmetry2</th>\n",
       "      <th>symmetry3</th>\n",
       "      <th>fractal_dimension1</th>\n",
       "      <th>fractal_dimension2</th>\n",
       "      <th>fractal_dimension3</th>\n",
       "    </tr>\n",
       "  </thead>\n",
       "  <tbody>\n",
       "    <tr>\n",
       "      <th>count</th>\n",
       "      <td>5.690000e+02</td>\n",
       "      <td>569.000000</td>\n",
       "      <td>569.000000</td>\n",
       "      <td>569.000000</td>\n",
       "      <td>569.000000</td>\n",
       "      <td>569.000000</td>\n",
       "      <td>569.000000</td>\n",
       "      <td>569.000000</td>\n",
       "      <td>569.000000</td>\n",
       "      <td>569.000000</td>\n",
       "      <td>...</td>\n",
       "      <td>569.000000</td>\n",
       "      <td>569.000000</td>\n",
       "      <td>569.000000</td>\n",
       "      <td>569.000000</td>\n",
       "      <td>569.000000</td>\n",
       "      <td>569.000000</td>\n",
       "      <td>569.000000</td>\n",
       "      <td>569.000000</td>\n",
       "      <td>569.000000</td>\n",
       "      <td>569.000000</td>\n",
       "    </tr>\n",
       "    <tr>\n",
       "      <th>mean</th>\n",
       "      <td>3.037183e+07</td>\n",
       "      <td>0.627417</td>\n",
       "      <td>14.127292</td>\n",
       "      <td>19.289649</td>\n",
       "      <td>91.969033</td>\n",
       "      <td>654.889104</td>\n",
       "      <td>0.096360</td>\n",
       "      <td>0.104341</td>\n",
       "      <td>0.088799</td>\n",
       "      <td>0.048919</td>\n",
       "      <td>...</td>\n",
       "      <td>16.269190</td>\n",
       "      <td>25.677223</td>\n",
       "      <td>107.261213</td>\n",
       "      <td>880.583128</td>\n",
       "      <td>0.132369</td>\n",
       "      <td>0.254265</td>\n",
       "      <td>0.272188</td>\n",
       "      <td>0.114606</td>\n",
       "      <td>0.290076</td>\n",
       "      <td>0.083946</td>\n",
       "    </tr>\n",
       "    <tr>\n",
       "      <th>std</th>\n",
       "      <td>1.250206e+08</td>\n",
       "      <td>0.483918</td>\n",
       "      <td>3.524049</td>\n",
       "      <td>4.301036</td>\n",
       "      <td>24.298981</td>\n",
       "      <td>351.914129</td>\n",
       "      <td>0.014064</td>\n",
       "      <td>0.052813</td>\n",
       "      <td>0.079720</td>\n",
       "      <td>0.038803</td>\n",
       "      <td>...</td>\n",
       "      <td>4.833242</td>\n",
       "      <td>6.146258</td>\n",
       "      <td>33.602542</td>\n",
       "      <td>569.356993</td>\n",
       "      <td>0.022832</td>\n",
       "      <td>0.157336</td>\n",
       "      <td>0.208624</td>\n",
       "      <td>0.065732</td>\n",
       "      <td>0.061867</td>\n",
       "      <td>0.018061</td>\n",
       "    </tr>\n",
       "    <tr>\n",
       "      <th>min</th>\n",
       "      <td>8.670000e+03</td>\n",
       "      <td>0.000000</td>\n",
       "      <td>6.981000</td>\n",
       "      <td>9.710000</td>\n",
       "      <td>43.790000</td>\n",
       "      <td>143.500000</td>\n",
       "      <td>0.052630</td>\n",
       "      <td>0.019380</td>\n",
       "      <td>0.000000</td>\n",
       "      <td>0.000000</td>\n",
       "      <td>...</td>\n",
       "      <td>7.930000</td>\n",
       "      <td>12.020000</td>\n",
       "      <td>50.410000</td>\n",
       "      <td>185.200000</td>\n",
       "      <td>0.071170</td>\n",
       "      <td>0.027290</td>\n",
       "      <td>0.000000</td>\n",
       "      <td>0.000000</td>\n",
       "      <td>0.156500</td>\n",
       "      <td>0.055040</td>\n",
       "    </tr>\n",
       "    <tr>\n",
       "      <th>25%</th>\n",
       "      <td>8.692180e+05</td>\n",
       "      <td>0.000000</td>\n",
       "      <td>11.700000</td>\n",
       "      <td>16.170000</td>\n",
       "      <td>75.170000</td>\n",
       "      <td>420.300000</td>\n",
       "      <td>0.086370</td>\n",
       "      <td>0.064920</td>\n",
       "      <td>0.029560</td>\n",
       "      <td>0.020310</td>\n",
       "      <td>...</td>\n",
       "      <td>13.010000</td>\n",
       "      <td>21.080000</td>\n",
       "      <td>84.110000</td>\n",
       "      <td>515.300000</td>\n",
       "      <td>0.116600</td>\n",
       "      <td>0.147200</td>\n",
       "      <td>0.114500</td>\n",
       "      <td>0.064930</td>\n",
       "      <td>0.250400</td>\n",
       "      <td>0.071460</td>\n",
       "    </tr>\n",
       "    <tr>\n",
       "      <th>50%</th>\n",
       "      <td>9.060240e+05</td>\n",
       "      <td>1.000000</td>\n",
       "      <td>13.370000</td>\n",
       "      <td>18.840000</td>\n",
       "      <td>86.240000</td>\n",
       "      <td>551.100000</td>\n",
       "      <td>0.095870</td>\n",
       "      <td>0.092630</td>\n",
       "      <td>0.061540</td>\n",
       "      <td>0.033500</td>\n",
       "      <td>...</td>\n",
       "      <td>14.970000</td>\n",
       "      <td>25.410000</td>\n",
       "      <td>97.660000</td>\n",
       "      <td>686.500000</td>\n",
       "      <td>0.131300</td>\n",
       "      <td>0.211900</td>\n",
       "      <td>0.226700</td>\n",
       "      <td>0.099930</td>\n",
       "      <td>0.282200</td>\n",
       "      <td>0.080040</td>\n",
       "    </tr>\n",
       "    <tr>\n",
       "      <th>75%</th>\n",
       "      <td>8.813129e+06</td>\n",
       "      <td>1.000000</td>\n",
       "      <td>15.780000</td>\n",
       "      <td>21.800000</td>\n",
       "      <td>104.100000</td>\n",
       "      <td>782.700000</td>\n",
       "      <td>0.105300</td>\n",
       "      <td>0.130400</td>\n",
       "      <td>0.130700</td>\n",
       "      <td>0.074000</td>\n",
       "      <td>...</td>\n",
       "      <td>18.790000</td>\n",
       "      <td>29.720000</td>\n",
       "      <td>125.400000</td>\n",
       "      <td>1084.000000</td>\n",
       "      <td>0.146000</td>\n",
       "      <td>0.339100</td>\n",
       "      <td>0.382900</td>\n",
       "      <td>0.161400</td>\n",
       "      <td>0.317900</td>\n",
       "      <td>0.092080</td>\n",
       "    </tr>\n",
       "    <tr>\n",
       "      <th>max</th>\n",
       "      <td>9.113205e+08</td>\n",
       "      <td>1.000000</td>\n",
       "      <td>28.110000</td>\n",
       "      <td>39.280000</td>\n",
       "      <td>188.500000</td>\n",
       "      <td>2501.000000</td>\n",
       "      <td>0.163400</td>\n",
       "      <td>0.345400</td>\n",
       "      <td>0.426800</td>\n",
       "      <td>0.201200</td>\n",
       "      <td>...</td>\n",
       "      <td>36.040000</td>\n",
       "      <td>49.540000</td>\n",
       "      <td>251.200000</td>\n",
       "      <td>4254.000000</td>\n",
       "      <td>0.222600</td>\n",
       "      <td>1.058000</td>\n",
       "      <td>1.252000</td>\n",
       "      <td>0.291000</td>\n",
       "      <td>0.663800</td>\n",
       "      <td>0.207500</td>\n",
       "    </tr>\n",
       "  </tbody>\n",
       "</table>\n",
       "<p>8 rows × 32 columns</p>\n",
       "</div>"
      ],
      "text/plain": [
       "          ID_Number   Diagnosis     radius1     radius2     radius3  \\\n",
       "count  5.690000e+02  569.000000  569.000000  569.000000  569.000000   \n",
       "mean   3.037183e+07    0.627417   14.127292   19.289649   91.969033   \n",
       "std    1.250206e+08    0.483918    3.524049    4.301036   24.298981   \n",
       "min    8.670000e+03    0.000000    6.981000    9.710000   43.790000   \n",
       "25%    8.692180e+05    0.000000   11.700000   16.170000   75.170000   \n",
       "50%    9.060240e+05    1.000000   13.370000   18.840000   86.240000   \n",
       "75%    8.813129e+06    1.000000   15.780000   21.800000  104.100000   \n",
       "max    9.113205e+08    1.000000   28.110000   39.280000  188.500000   \n",
       "\n",
       "          texture1    texture2    texture3  perimeter1  perimeter2  ...  \\\n",
       "count   569.000000  569.000000  569.000000  569.000000  569.000000  ...   \n",
       "mean    654.889104    0.096360    0.104341    0.088799    0.048919  ...   \n",
       "std     351.914129    0.014064    0.052813    0.079720    0.038803  ...   \n",
       "min     143.500000    0.052630    0.019380    0.000000    0.000000  ...   \n",
       "25%     420.300000    0.086370    0.064920    0.029560    0.020310  ...   \n",
       "50%     551.100000    0.095870    0.092630    0.061540    0.033500  ...   \n",
       "75%     782.700000    0.105300    0.130400    0.130700    0.074000  ...   \n",
       "max    2501.000000    0.163400    0.345400    0.426800    0.201200  ...   \n",
       "\n",
       "       concavity3  concave_points1  concave_points2  concave_points3  \\\n",
       "count  569.000000       569.000000       569.000000       569.000000   \n",
       "mean    16.269190        25.677223       107.261213       880.583128   \n",
       "std      4.833242         6.146258        33.602542       569.356993   \n",
       "min      7.930000        12.020000        50.410000       185.200000   \n",
       "25%     13.010000        21.080000        84.110000       515.300000   \n",
       "50%     14.970000        25.410000        97.660000       686.500000   \n",
       "75%     18.790000        29.720000       125.400000      1084.000000   \n",
       "max     36.040000        49.540000       251.200000      4254.000000   \n",
       "\n",
       "        symmetry1   symmetry2   symmetry3  fractal_dimension1  \\\n",
       "count  569.000000  569.000000  569.000000          569.000000   \n",
       "mean     0.132369    0.254265    0.272188            0.114606   \n",
       "std      0.022832    0.157336    0.208624            0.065732   \n",
       "min      0.071170    0.027290    0.000000            0.000000   \n",
       "25%      0.116600    0.147200    0.114500            0.064930   \n",
       "50%      0.131300    0.211900    0.226700            0.099930   \n",
       "75%      0.146000    0.339100    0.382900            0.161400   \n",
       "max      0.222600    1.058000    1.252000            0.291000   \n",
       "\n",
       "       fractal_dimension2  fractal_dimension3  \n",
       "count          569.000000          569.000000  \n",
       "mean             0.290076            0.083946  \n",
       "std              0.061867            0.018061  \n",
       "min              0.156500            0.055040  \n",
       "25%              0.250400            0.071460  \n",
       "50%              0.282200            0.080040  \n",
       "75%              0.317900            0.092080  \n",
       "max              0.663800            0.207500  \n",
       "\n",
       "[8 rows x 32 columns]"
      ]
     },
     "execution_count": 21,
     "metadata": {},
     "output_type": "execute_result"
    }
   ],
   "source": [
    "df.describe()"
   ]
  },
  {
   "cell_type": "markdown",
   "metadata": {},
   "source": [
    "### 5. Everything checks out. \n",
    "DT1(decision tree)\n",
    "DT2(random tree)\n",
    "1. split data\n",
    "2. find the best n_estimators which is the maximum number of weak learners\n",
    "3. compare the performance between DT1 and DT2(using best n_estimators)"
   ]
  },
  {
   "cell_type": "code",
   "execution_count": 43,
   "metadata": {},
   "outputs": [
    {
     "name": "stdout",
     "output_type": "stream",
     "text": [
      "0.9719298245614034 82\n"
     ]
    },
    {
     "data": {
      "image/png": "[encoded data removed]",
      "text/plain": [
       "<Figure size 1440x360 with 1 Axes>"
      ]
     },
     "metadata": {
      "needs_background": "light"
     },
     "output_type": "display_data"
    }
   ],
   "source": [
    "X = df[['radius1', 'radius2', 'radius3', 'texture1','texture2','texture3','perimeter1','perimeter2','perimeter3',\n",
    "                  'area1','area2','area3','smoothness1','smoothness2','smoothness3',\n",
    "                  'compactness1','compactness2','compactness3',\n",
    "                  'concavity1','concavity2','concavity3',\n",
    "                  'concave_points1','concave_points2','concave_points3',\n",
    "                  'symmetry1','symmetry2','symmetry3',\n",
    "                  'fractal_dimension1','fractal_dimension2','fractal_dimension3']].values\n",
    "Y = df['Diagnosis'].values\n",
    "(Xtrain,Xtest,Ytrain,Ytest)=train_test_split(X, Y, test_size=0.3)# train data : test data = 7:3\n",
    "\n",
    "superpa = []\n",
    "for i in range(200):\n",
    "    rfc = RandomForestClassifier(n_estimators=i+1,n_jobs=-1) #这里就是进行了200次的随机森林计算，每次的n_estimator设置不一样\n",
    "    rfc_s = cross_val_score(rfc,X,Y,cv=10).mean()\n",
    "    superpa.append(rfc_s)\n",
    "print(max(superpa),superpa.index(max(superpa)))\n",
    "plt.figure(figsize=[20,5])\n",
    "plt.plot(range(1,201),superpa)\n",
    "plt.show()"
   ]
  },
  {
   "cell_type": "markdown",
   "metadata": {},
   "source": [
    "we choose macro to compute the precision and recall rate, next code block will give other methods"
   ]
  },
  {
   "cell_type": "code",
   "execution_count": 81,
   "metadata": {},
   "outputs": [
    {
     "data": {
      "image/png": "[encoded data removed]",
      "text/plain": [
       "<Figure size 432x288 with 1 Axes>"
      ]
     },
     "metadata": {
      "needs_background": "light"
     },
     "output_type": "display_data"
    },
    {
     "name": "stdout",
     "output_type": "stream",
     "text": [
      "Average Performance\n",
      "For DT1, Accuracy(train):1.0 Accuracy(test):0.9321637426900585  Precision:0.9286018755328216  Recall rate:0.9304946204156337\n",
      "For DT2, Accuracy(train):1.0 Accuracy(test):0.9628654970760232 Precision:0.9566815856777493  Recall rate:0.966675757428671\n"
     ]
    }
   ],
   "source": [
    "from sklearn.metrics import precision_score,recall_score\n",
    "rfc_l = []\n",
    "clf_l = []\n",
    "rfc_2 = []\n",
    "clf_2 = []\n",
    "pre_c = []\n",
    "pre_r = []\n",
    "call_c = []\n",
    "call_r = []\n",
    "\n",
    "for i in range(0,20):\n",
    "    clf = DecisionTreeClassifier()\n",
    "    rfc = RandomForestClassifier(n_estimators=82)\n",
    "    \n",
    "    clf = clf.fit(Xtrain,Ytrain)\n",
    "    rfc = rfc.fit(Xtrain,Ytrain)\n",
    "    \n",
    "    score_c_1 = clf.score(Xtrain,Ytrain) \n",
    "    score_c_2 = clf.score(Xtest,Ytest) \n",
    "    precision_c = clf.predict(Xtest)\n",
    "    \n",
    "    score_r_1 = rfc.score(Xtrain,Ytrain)\n",
    "    score_r_2 = rfc.score(Xtest,Ytest)\n",
    "    precision_r = rfc.predict(Xtest)\n",
    "    \n",
    "    clf_l.append(score_c_1)\n",
    "    clf_2.append(score_c_2)\n",
    "    pre_c.append(precision_score(precision_c, Ytest, average='macro'))\n",
    "    call_c.append(recall_score(precision_c, Ytest, average='macro'))\n",
    " \n",
    "    rfc_l.append(score_r_1)\n",
    "    rfc_2.append(score_r_2)\n",
    "    pre_r.append(precision_score(precision_r, Ytest, average='macro'))\n",
    "    call_r.append(recall_score(precision_r, Ytest, average='macro'))\n",
    "    \n",
    "plt.plot(range(1,21),rfc_2,label = \"Random Forest\")\n",
    "plt.plot(range(1,21),clf_2,label = \"Decision Tree\")\n",
    "plt.legend()\n",
    "plt.show()\n",
    "\n",
    "print('Average Performance')\n",
    "print('For DT1, Accuracy(train):{}'.format(np.mean(clf_l)),'Accuracy(test):{}'.format(np.mean(clf_2)),\n",
    "      ' Precision:{}'.format(np.mean(pre_c)),' Recall rate:{}'.format(np.mean(call_c)))\n",
    "print('For DT2, Accuracy(train):{}'.format(np.mean(rfc_l)),'Accuracy(test):{}'.format(np.mean(rfc_2))\n",
    "      ,'Precision:{}'.format(np.mean(pre_r)),' Recall rate:{}'.format(np.mean(call_r)))"
   ]
  },
  {
   "cell_type": "code",
   "execution_count": 96,
   "metadata": {},
   "outputs": [
    {
     "name": "stdout",
     "output_type": "stream",
     "text": [
      "           macro              micro             weighted                none\n",
      "For Precision\n",
      "RT1: 0.9102728047740836 0.9181286549707602 0.9200331035032878 [0.86956522 0.95098039]\n",
      "RT2: 0.9588661551577153 0.9649122807017544 0.9663780081063701 [0.92753623 0.99019608]\n",
      "For Recall\n",
      "RT1: 0.9190856313497824 0.9181286549707602 0.9181286549707602 [0.92307692 0.91509434]\n",
      "RT2: 0.9687227866473149 0.9649122807017544 0.9649122807017544 [0.98461538 0.95283019]\n"
     ]
    }
   ],
   "source": [
    "clf = DecisionTreeClassifier()\n",
    "rfc = RandomForestClassifier(n_estimators=82)\n",
    "\n",
    "clf = clf.fit(Xtrain,Ytrain)\n",
    "rfc = rfc.fit(Xtrain,Ytrain)\n",
    "\n",
    "score_c_2 = clf.score(Xtest,Ytest) \n",
    "precision_c = clf.predict(Xtest)\n",
    "score_r_2 = rfc.score(Xtest,Ytest)\n",
    "precision_r = rfc.predict(Xtest)\n",
    "\n",
    "print('           macro              micro             weighted                none')\n",
    "print('For Precision')\n",
    "print('RT1:',precision_score(precision_c, Ytest, average='macro'),precision_score(precision_c, Ytest, average='micro'),\n",
    "     precision_score(precision_c, Ytest, average='weighted'),precision_score(precision_c, Ytest, average=None)) \n",
    "\n",
    "print('RT2:',precision_score(precision_r, Ytest, average='macro'),precision_score(precision_r, Ytest, average='micro'),\n",
    "     precision_score(precision_r, Ytest, average='weighted'),precision_score(precision_r, Ytest, average=None)) \n",
    "\n",
    "print('For Recall')\n",
    "print('RT1:',recall_score(precision_c, Ytest, average='macro'),recall_score(precision_c, Ytest, average='micro'),\n",
    "     recall_score(precision_c, Ytest, average='weighted'),recall_score(precision_c, Ytest, average=None)) \n",
    "\n",
    "print('RT2:',recall_score(precision_r, Ytest, average='macro'),recall_score(precision_r, Ytest, average='micro'),\n",
    "     recall_score(precision_r, Ytest, average='weighted'),recall_score(precision_r, Ytest, average=None)) \n",
    "\n"
   ]
  },
  {
   "cell_type": "markdown",
   "metadata": {},
   "source": [
    "### 6.Another mehod for comparison of random forest and decision tree with a set of cross-validation\n",
    "Cross-validation: it is a method that divides the data set into N subdata set\n",
    "For every train and test\n",
    "1. takeing each one as the test set\n",
    "2. takeing each n-1 as the training set\n",
    "3. training the model for scores of times to observe model\n"
   ]
  },
  {
   "cell_type": "code",
   "execution_count": 94,
   "metadata": {},
   "outputs": [
    {
     "name": "stdout",
     "output_type": "stream",
     "text": [
      "RandomForest:\n",
      "0.9578634085213033\n",
      "DecisionTree:\n",
      "0.9173872180451129\n"
     ]
    },
    {
     "data": {
      "image/png": "[encoded data removed]",
      "text/plain": [
       "<Figure size 432x288 with 1 Axes>"
      ]
     },
     "metadata": {
      "needs_background": "light"
     },
     "output_type": "display_data"
    },
    {
     "data": {
      "image/png": "[encoded data removed]",
      "text/plain": [
       "<Figure size 432x288 with 1 Axes>"
      ]
     },
     "metadata": {
      "needs_background": "light"
     },
     "output_type": "display_data"
    }
   ],
   "source": [
    "#Draw the comparison under one groups of cross validation\n",
    "label = \"RandomForest\"\n",
    "for model in [RandomForestClassifier(n_estimators=82),DecisionTreeClassifier()]:\n",
    "    score = cross_val_score(model,X,Y,cv=10)\n",
    "    print(\"{}:\".format(label)),print(score.mean())\n",
    "    plt.plot(range(1,11),score,label = label)\n",
    "    plt.legend()\n",
    "    label = \"DecisionTree\"\n",
    "plt.show()\n",
    "    \n",
    "#Draw the comparison under ten groups of cross validation\n",
    "rfc_l = []\n",
    "clf_l = []\n",
    "for i in range(10):\n",
    "    rfc = RandomForestClassifier(n_estimators=82)\n",
    "    rfc_s = cross_val_score(rfc,X,Y,cv=10).mean()\n",
    "    rfc_l.append(rfc_s)\n",
    "    clf = DecisionTreeClassifier()\n",
    "    clf_s = cross_val_score(clf,X,Y,cv=10).mean()\n",
    "    clf_l.append(clf_s)\n",
    "\n",
    "plt.plot(range(1,11),rfc_l,label = \"Random Forest\")\n",
    "plt.plot(range(1,11),clf_l,label = \"Decision Tree\")\n",
    "plt.legend()\n",
    "plt.show()"
   ]
  },
  {
   "cell_type": "markdown",
   "metadata": {},
   "source": [
    "### 7. Visualize the decision tree. "
   ]
  },
  {
   "cell_type": "code",
   "execution_count": 100,
   "metadata": {},
   "outputs": [
    {
     "name": "stderr",
     "output_type": "stream",
     "text": [
      "'open' 不是内部或外部命令，也不是可运行的程序\n",
      "或批处理文件。\n"
     ]
    }
   ],
   "source": [
    "dot_data1 = tree.export_graphviz(clf, out_file=None) \n",
    "graph1 = graphviz.Source(dot_data1) \n",
    "graph1.render(\"Decision_tree\") \n",
    "\n",
    "!open iris.pdf"
   ]
  },
  {
   "cell_type": "code",
   "execution_count": null,
   "metadata": {},
   "outputs": [],
   "source": []
  }
 ],
 "metadata": {
  "kernelspec": {
   "display_name": "Python 3 (ipykernel)",
   "language": "python",
   "name": "python3"
  },
  "language_info": {
   "codemirror_mode": {
    "name": "ipython",
    "version": 3
   },
   "file_extension": ".py",
   "mimetype": "text/x-python",
   "name": "python",
   "nbconvert_exporter": "python",
   "pygments_lexer": "ipython3",
   "version": "3.9.12"
  }
 },
 "nbformat": 4,
 "nbformat_minor": 2
}
